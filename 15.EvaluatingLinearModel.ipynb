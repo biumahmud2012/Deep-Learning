{
 "cells": [
  {
   "cell_type": "markdown",
   "metadata": {},
   "source": [
    "# Evaluating a Linear Model\n",
    "\n",
    "MSE is a useful metric for seeing the performance of a model, but other metrics can help us decide which model to use.\n",
    "\n",
    "Here we will use **statsmodels** for fitting linear models since the package easily computes the metrics I want to see.\n",
    "\n",
    "Let's load in the Boston housing dataset."
   ]
  },
  {
   "cell_type": "code",
   "execution_count": 1,
   "metadata": {
    "collapsed": true
   },
   "outputs": [],
   "source": [
    "from sklearn.datasets import load_boston\n",
    "from sklearn.model_selection import train_test_split"
   ]
  },
  {
   "cell_type": "code",
   "execution_count": 2,
   "metadata": {
    "collapsed": true
   },
   "outputs": [],
   "source": [
    "boston_obj = load_boston()\n",
    "data_train, data_test, price_train, price_test = train_test_split(boston_obj.data, boston_obj.target)"
   ]
  },
  {
   "cell_type": "markdown",
   "metadata": {},
   "source": [
    "## Fitting a Linear Model with OLS in **statsmodels**\n",
    "\n",
    "The `OLS` object in **statsmodels** handles fitting models with OLS. Below I show how to fit the same model for Boston home prices I fitted using **scikit-learn**."
   ]
  },
  {
   "cell_type": "code",
   "execution_count": 3,
   "metadata": {},
   "outputs": [
    {
     "name": "stderr",
     "output_type": "stream",
     "text": [
      "C:\\ProgramData\\Anaconda3\\lib\\site-packages\\statsmodels\\compat\\pandas.py:56: FutureWarning: The pandas.core.datetools module is deprecated and will be removed in a future version. Please use the pandas.tseries module instead.\n",
      "  from pandas.core import datetools\n"
     ]
    }
   ],
   "source": [
    "import statsmodels.api as sm\n",
    "import numpy as np"
   ]
  },
  {
   "cell_type": "code",
   "execution_count": 4,
   "metadata": {},
   "outputs": [
    {
     "data": {
      "text/plain": [
       "array([[  1.00000000e+00,   2.98190000e-01,   0.00000000e+00,\n",
       "          6.20000000e+00,   0.00000000e+00,   5.04000000e-01,\n",
       "          7.68600000e+00,   1.70000000e+01,   3.37510000e+00,\n",
       "          8.00000000e+00,   3.07000000e+02,   1.74000000e+01,\n",
       "          3.77510000e+02,   3.92000000e+00],\n",
       "       [  1.00000000e+00,   9.16400000e-02,   0.00000000e+00,\n",
       "          1.08100000e+01,   0.00000000e+00,   4.13000000e-01,\n",
       "          6.06500000e+00,   7.80000000e+00,   5.28730000e+00,\n",
       "          4.00000000e+00,   3.05000000e+02,   1.92000000e+01,\n",
       "          3.90910000e+02,   5.52000000e+00],\n",
       "       [  1.00000000e+00,   2.77974000e+00,   0.00000000e+00,\n",
       "          1.95800000e+01,   0.00000000e+00,   8.71000000e-01,\n",
       "          4.90300000e+00,   9.78000000e+01,   1.34590000e+00,\n",
       "          5.00000000e+00,   4.03000000e+02,   1.47000000e+01,\n",
       "          3.96900000e+02,   2.92900000e+01],\n",
       "       [  1.00000000e+00,   4.26131000e+00,   0.00000000e+00,\n",
       "          1.81000000e+01,   0.00000000e+00,   7.70000000e-01,\n",
       "          6.11200000e+00,   8.13000000e+01,   2.50910000e+00,\n",
       "          2.40000000e+01,   6.66000000e+02,   2.02000000e+01,\n",
       "          3.90740000e+02,   1.26700000e+01],\n",
       "       [  1.00000000e+00,   7.52601000e+00,   0.00000000e+00,\n",
       "          1.81000000e+01,   0.00000000e+00,   7.13000000e-01,\n",
       "          6.41700000e+00,   9.83000000e+01,   2.18500000e+00,\n",
       "          2.40000000e+01,   6.66000000e+02,   2.02000000e+01,\n",
       "          3.04210000e+02,   1.93100000e+01]])"
      ]
     },
     "execution_count": 4,
     "metadata": {},
     "output_type": "execute_result"
    }
   ],
   "source": [
    "data_train, data_test = sm.add_constant(data_train), sm.add_constant(data_test)    # Necessary to add the intercept\n",
    "data_train[:5, :]"
   ]
  },
  {
   "cell_type": "code",
   "execution_count": 5,
   "metadata": {},
   "outputs": [
    {
     "data": {
      "text/plain": [
       "array([ 1.,  1.,  1.,  1.,  1.])"
      ]
     },
     "execution_count": 5,
     "metadata": {},
     "output_type": "execute_result"
    }
   ],
   "source": [
    "data_train[:5, 0]"
   ]
  },
  {
   "cell_type": "code",
   "execution_count": 6,
   "metadata": {},
   "outputs": [
    {
     "data": {
      "text/plain": [
       "array([  4.55500487e+01,  -1.15881758e-01,   6.46705142e-02,\n",
       "        -2.94914566e-02,   2.56042181e+00,  -1.86435260e+01,\n",
       "         2.84961332e+00,   3.75427007e-03,  -1.62616270e+00,\n",
       "         3.11254205e-01,  -1.31510778e-02,  -1.01784717e+00,\n",
       "         6.47903897e-03,  -4.89312934e-01])"
      ]
     },
     "execution_count": 6,
     "metadata": {},
     "output_type": "execute_result"
    }
   ],
   "source": [
    "ols1 = sm.OLS(price_train, data_train)    # Target, features\n",
    "model1 = ols1.fit()\n",
    "model1.params    # The parameters of the regression"
   ]
  },
  {
   "cell_type": "code",
   "execution_count": 7,
   "metadata": {},
   "outputs": [
    {
     "data": {
      "text/plain": [
       "array([ 34.32478248])"
      ]
     },
     "execution_count": 7,
     "metadata": {},
     "output_type": "execute_result"
    }
   ],
   "source": [
    "model1.predict([[    # An example prediction\n",
    "    1,      # Intercept term; always 1\n",
    "    10,     # Per capita crime rate\n",
    "    25,     # Proportion of land zoned for large homes\n",
    "    5,      # Proportion of land zoned for non-retail business\n",
    "    1,      # Tract bounds the Charles River\n",
    "    0.3,    # NOX concentration\n",
    "    10,     # Average number of rooms per dwelling\n",
    "    2,      # Proportion of owner-occupied units built prior to 1940\n",
    "    10,     # Weighted distance to employment centers\n",
    "    3,      # Index for highway accessibility\n",
    "    400,    # Tax rate\n",
    "    15,     # Pupil/teacher ratio\n",
    "    200,    # Index for number of blacks\n",
    "    5       # % lower status of population\n",
    "]])"
   ]
  },
  {
   "cell_type": "markdown",
   "metadata": {},
   "source": [
    "We can get a summary of the model easily in **statsmodels**."
   ]
  },
  {
   "cell_type": "code",
   "execution_count": 8,
   "metadata": {},
   "outputs": [
    {
     "name": "stdout",
     "output_type": "stream",
     "text": [
      "                            OLS Regression Results                            \n",
      "==============================================================================\n",
      "Dep. Variable:                      y   R-squared:                       0.736\n",
      "Model:                            OLS   Adj. R-squared:                  0.727\n",
      "Method:                 Least Squares   F-statistic:                     78.28\n",
      "Date:                Mon, 23 Apr 2018   Prob (F-statistic):           5.36e-97\n",
      "Time:                        11:03:48   Log-Likelihood:                -1110.4\n",
      "No. Observations:                 379   AIC:                             2249.\n",
      "Df Residuals:                     365   BIC:                             2304.\n",
      "Df Model:                          13                                         \n",
      "Covariance Type:            nonrobust                                         \n",
      "==============================================================================\n",
      "                 coef    std err          t      P>|t|      [0.025      0.975]\n",
      "------------------------------------------------------------------------------\n",
      "const         45.5500      5.891      7.732      0.000      33.966      57.134\n",
      "x1            -0.1159      0.033     -3.503      0.001      -0.181      -0.051\n",
      "x2             0.0647      0.015      4.182      0.000       0.034       0.095\n",
      "x3            -0.0295      0.072     -0.407      0.684      -0.172       0.113\n",
      "x4             2.5604      1.009      2.538      0.012       0.577       4.544\n",
      "x5           -18.6435      4.327     -4.309      0.000     -27.153     -10.134\n",
      "x6             2.8496      0.486      5.861      0.000       1.894       3.806\n",
      "x7             0.0038      0.015      0.246      0.806      -0.026       0.034\n",
      "x8            -1.6262      0.229     -7.098      0.000      -2.077      -1.176\n",
      "x9             0.3113      0.073      4.241      0.000       0.167       0.456\n",
      "x10           -0.0132      0.004     -3.089      0.002      -0.022      -0.005\n",
      "x11           -1.0178      0.154     -6.592      0.000      -1.321      -0.714\n",
      "x12            0.0065      0.003      2.227      0.027       0.001       0.012\n",
      "x13           -0.4893      0.059     -8.360      0.000      -0.604      -0.374\n",
      "==============================================================================\n",
      "Omnibus:                      135.535   Durbin-Watson:                   1.803\n",
      "Prob(Omnibus):                  0.000   Jarque-Bera (JB):              607.188\n",
      "Skew:                           1.490   Prob(JB):                    1.42e-132\n",
      "Kurtosis:                       8.438   Cond. No.                     1.56e+04\n",
      "==============================================================================\n",
      "\n",
      "Warnings:\n",
      "[1] Standard Errors assume that the covariance matrix of the errors is correctly specified.\n",
      "[2] The condition number is large, 1.56e+04. This might indicate that there are\n",
      "strong multicollinearity or other numerical problems.\n"
     ]
    }
   ],
   "source": [
    "print(model1.summary())"
   ]
  },
  {
   "cell_type": "markdown",
   "metadata": {},
   "source": [
    "Let's parse these results:\n",
    "\n",
    "* `R-squared` (mathematically, $R^2$) describes how much variation in the target variable the model is able to \"explain.\" (Think: predict.) Practitioners prefer `Adj. R-squared` ($\\bar{R}^2$) since this takes into account how many variables are used. (it is impossible for $R^2$ to go down when adding variables even if those variables only contribute noise; $\\bar{R}^2$ doesn't have this property.) Here $\\bar{R}^2$ is somewhat high, suggesting that the model does a reasonable job at predicting home prices.\n",
    "* `F-statistic` is the test statistic for a statistical test to determine if any coefficients in the model are not zero. `Prob (F-statistic)` is the corresponding $p$-value. Here the model clearly has a non-zero coefficient, though the statistic does not say which.\n",
    "* `AIC` is the **Akaike information criterion (AIC)**, and `BIC` the **Bayesian information criterion (BIC)**. These are measures of the quality of statistical models and provide a means to decide between models. Models that lead to smaller AIC and BIC are seen as better.\n",
    "* The table contains the coefficients of the statistical model and the results of $t$-tests to determine if the coefficients are zero or not, in addition to confidence intervals for the coefficient values. We might consider removing features with coefficients not statistically different from zero from our model (but we should also refer to the AIC and BIC statistics when making decisions between models).\n",
    "\n",
    "## Using AIC to Pick Models\n",
    "\n",
    "Let's see how we can use the AIC to decide between different models. (The BIC can be used similarly.) Notice that in our table the third and seventh features don't have coefficients statistically different from zero (these correspond to proportion of non-retail business acres per town and proportion of owner-occupied units built prior to 1940). Does a model without these features do better according to the AIC?"
   ]
  },
  {
   "cell_type": "code",
   "execution_count": 9,
   "metadata": {},
   "outputs": [
    {
     "name": "stdout",
     "output_type": "stream",
     "text": [
      "                            OLS Regression Results                            \n",
      "==============================================================================\n",
      "Dep. Variable:                      y   R-squared:                       0.736\n",
      "Model:                            OLS   Adj. R-squared:                  0.728\n",
      "Method:                 Least Squares   F-statistic:                     92.95\n",
      "Date:                Mon, 23 Apr 2018   Prob (F-statistic):           6.43e-99\n",
      "Time:                        11:10:38   Log-Likelihood:                -1110.6\n",
      "No. Observations:                 379   AIC:                             2245.\n",
      "Df Residuals:                     367   BIC:                             2292.\n",
      "Df Model:                          11                                         \n",
      "Covariance Type:            nonrobust                                         \n",
      "==============================================================================\n",
      "                 coef    std err          t      P>|t|      [0.025      0.975]\n",
      "------------------------------------------------------------------------------\n",
      "const         45.5559      5.829      7.816      0.000      34.094      57.018\n",
      "x1            -0.1152      0.033     -3.495      0.001      -0.180      -0.050\n",
      "x2             0.0647      0.015      4.230      0.000       0.035       0.095\n",
      "x3             2.5107      0.995      2.522      0.012       0.553       4.468\n",
      "x4           -18.8236      3.992     -4.715      0.000     -26.674     -10.973\n",
      "x5             2.8951      0.472      6.140      0.000       1.968       3.822\n",
      "x6            -1.6205      0.214     -7.558      0.000      -2.042      -1.199\n",
      "x7             0.3184      0.070      4.523      0.000       0.180       0.457\n",
      "x8            -0.0139      0.004     -3.666      0.000      -0.021      -0.006\n",
      "x9            -1.0229      0.151     -6.793      0.000      -1.319      -0.727\n",
      "x10            0.0065      0.003      2.250      0.025       0.001       0.012\n",
      "x11           -0.4858      0.055     -8.891      0.000      -0.593      -0.378\n",
      "==============================================================================\n",
      "Omnibus:                      136.868   Durbin-Watson:                   1.806\n",
      "Prob(Omnibus):                  0.000   Jarque-Bera (JB):              619.475\n",
      "Skew:                           1.503   Prob(JB):                    3.04e-135\n",
      "Kurtosis:                       8.495   Cond. No.                     1.51e+04\n",
      "==============================================================================\n",
      "\n",
      "Warnings:\n",
      "[1] Standard Errors assume that the covariance matrix of the errors is correctly specified.\n",
      "[2] The condition number is large, 1.51e+04. This might indicate that there are\n",
      "strong multicollinearity or other numerical problems.\n"
     ]
    }
   ],
   "source": [
    "ols2 = sm.OLS(price_train, np.delete(data_train, [3, 7], axis=1))\n",
    "model2 = ols2.fit()\n",
    "print(model2.summary())"
   ]
  },
  {
   "cell_type": "markdown",
   "metadata": {},
   "source": [
    "This model has a smaller AIC.\n",
    "\n",
    "The different AIC values can be interpreted this way: If model 1 has $\\text{AIC}_1$ and model 2 $\\text{AIC}_2$ and $\\text{AIC}_2 < \\text{AIC}_1$, then model 1 is $\\exp((\\text{AIC}_2 - \\text{AIC}_1)/2)$ times more likely to minimize information loss than model 2."
   ]
  },
  {
   "cell_type": "code",
   "execution_count": null,
   "metadata": {
    "collapsed": true
   },
   "outputs": [],
   "source": [
    "np.exp((model2.aic - model1.aic)/2)"
   ]
  },
  {
   "cell_type": "markdown",
   "metadata": {},
   "source": [
    "The inverse of that quantity can be interpreted as how much more likely model 2 is to minimize the information loss than model 1."
   ]
  },
  {
   "cell_type": "code",
   "execution_count": null,
   "metadata": {
    "collapsed": true
   },
   "outputs": [],
   "source": [
    "np.exp((model1.aic - model2.aic)/2)"
   ]
  },
  {
   "cell_type": "markdown",
   "metadata": {},
   "source": [
    "So we can see that model 2 should be preferred to model 1.\n",
    "\n",
    "Let's see how model 2 would have done on the test set, evaluating its performance with the MSE."
   ]
  },
  {
   "cell_type": "code",
   "execution_count": null,
   "metadata": {
    "collapsed": true
   },
   "outputs": [],
   "source": [
    "from sklearn.metrics import mean_squared_error"
   ]
  },
  {
   "cell_type": "code",
   "execution_count": null,
   "metadata": {
    "collapsed": true
   },
   "outputs": [],
   "source": [
    "price_train_pred = model2.predict(np.delete(data_train, [3, 7], axis=1))\n",
    "mean_squared_error(price_train, price_train_pred)     # Performance on the training set"
   ]
  },
  {
   "cell_type": "code",
   "execution_count": null,
   "metadata": {
    "collapsed": true
   },
   "outputs": [],
   "source": [
    "price_test_pred = model2.predict(np.delete(data_test, [3, 7], axis=1))\n",
    "mean_squared_error(price_test, price_test_pred)     # Performance on the training set"
   ]
  },
  {
   "cell_type": "markdown",
   "metadata": {},
   "source": [
    "In comparison to model 1..."
   ]
  },
  {
   "cell_type": "code",
   "execution_count": null,
   "metadata": {
    "collapsed": true
   },
   "outputs": [],
   "source": [
    "price_test_pred_mod1 = model1.predict(data_test)\n",
    "mean_squared_error(price_test, price_test_pred_mod1)"
   ]
  },
  {
   "cell_type": "markdown",
   "metadata": {},
   "source": [
    "Model 2 did better."
   ]
  }
 ],
 "metadata": {
  "kernelspec": {
   "display_name": "Python 3",
   "language": "python",
   "name": "python3"
  },
  "language_info": {
   "codemirror_mode": {
    "name": "ipython",
    "version": 3
   },
   "file_extension": ".py",
   "mimetype": "text/x-python",
   "name": "python",
   "nbconvert_exporter": "python",
   "pygments_lexer": "ipython3",
   "version": "3.6.3"
  }
 },
 "nbformat": 4,
 "nbformat_minor": 2
}
