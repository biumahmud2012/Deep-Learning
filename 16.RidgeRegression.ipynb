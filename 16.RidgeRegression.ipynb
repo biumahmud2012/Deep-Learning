{
 "cells": [
  {
   "cell_type": "markdown",
   "metadata": {},
   "source": [
    "# Employing Ridge Regression\n",
    "\n",
    "As mentioned before, OLS has a propensity to find spurious fits. **Ridge regression** helps prevent this by introducing regularization parameters, such as $\\alpha$. Larger $\\alpha$ implies more regularization and less overfitting.\n",
    "\n",
    "Ridge regression is implemented via the `Ridge` object provided in **scikit-learn**.\n",
    "\n",
    "We will work with the Boston housing price dataset. In an earlier video we saw that removing some features may lead to better models. We will remove those features here as well."
   ]
  },
  {
   "cell_type": "code",
   "execution_count": 1,
   "metadata": {
    "collapsed": true
   },
   "outputs": [],
   "source": [
    "from sklearn.datasets import load_boston\n",
    "from sklearn.model_selection import train_test_split\n",
    "import numpy as np"
   ]
  },
  {
   "cell_type": "code",
   "execution_count": 2,
   "metadata": {},
   "outputs": [
    {
     "data": {
      "text/plain": [
       "array([[  7.75223000e+00,   0.00000000e+00,   0.00000000e+00,\n",
       "          7.13000000e-01,   6.30100000e+00,   2.78310000e+00,\n",
       "          2.40000000e+01,   6.66000000e+02,   2.02000000e+01,\n",
       "          2.72210000e+02,   1.62300000e+01],\n",
       "       [  1.78667000e+01,   0.00000000e+00,   0.00000000e+00,\n",
       "          6.71000000e-01,   6.22300000e+00,   1.38610000e+00,\n",
       "          2.40000000e+01,   6.66000000e+02,   2.02000000e+01,\n",
       "          3.93740000e+02,   2.17800000e+01],\n",
       "       [  4.47910000e-01,   0.00000000e+00,   1.00000000e+00,\n",
       "          5.07000000e-01,   6.72600000e+00,   3.65190000e+00,\n",
       "          8.00000000e+00,   3.07000000e+02,   1.74000000e+01,\n",
       "          3.60200000e+02,   8.05000000e+00],\n",
       "       [  5.78900000e-02,   1.25000000e+01,   0.00000000e+00,\n",
       "          4.09000000e-01,   5.87800000e+00,   6.49800000e+00,\n",
       "          4.00000000e+00,   3.45000000e+02,   1.89000000e+01,\n",
       "          3.96210000e+02,   8.10000000e+00],\n",
       "       [  7.84200000e-01,   0.00000000e+00,   0.00000000e+00,\n",
       "          5.38000000e-01,   5.99000000e+00,   4.25790000e+00,\n",
       "          4.00000000e+00,   3.07000000e+02,   2.10000000e+01,\n",
       "          3.86750000e+02,   1.46700000e+01]])"
      ]
     },
     "execution_count": 2,
     "metadata": {},
     "output_type": "execute_result"
    }
   ],
   "source": [
    "boston_obj = load_boston()\n",
    "data_train, data_test, price_train, price_test = train_test_split(boston_obj.data, boston_obj.target)\n",
    "data_train = np.delete(data_train, [2, 6], axis=1)\n",
    "data_test = np.delete(data_test, [2, 6], axis=1)\n",
    "\n",
    "data_train[:5, :]"
   ]
  },
  {
   "cell_type": "markdown",
   "metadata": {},
   "source": [
    "## Fitting With Ridge Regression\n",
    "\n",
    "Ridge regression is implemented in the `Ridge` object supplied by **scikit-learn**."
   ]
  },
  {
   "cell_type": "code",
   "execution_count": 3,
   "metadata": {
    "collapsed": true
   },
   "outputs": [],
   "source": [
    "from sklearn.linear_model import Ridge\n",
    "from sklearn.metrics import mean_squared_error\n",
    "from sklearn.model_selection import cross_val_score"
   ]
  },
  {
   "cell_type": "code",
   "execution_count": 4,
   "metadata": {},
   "outputs": [
    {
     "data": {
      "text/plain": [
       "array([ 35.60976252])"
      ]
     },
     "execution_count": 4,
     "metadata": {},
     "output_type": "execute_result"
    }
   ],
   "source": [
    "ridge1 = Ridge(alpha=1)    # alpha is a hyperparameter controlling regularization\n",
    "ridge1.fit(data_train, price_train)\n",
    "ridge1.predict([[    # An example prediction\n",
    "    1,      # Per capita crime rate\n",
    "    25,     # Proportion of land zoned for large homes\n",
    "    1,      # Tract bounds the Charles River\n",
    "    0.3,    # NOX concentration\n",
    "    10,     # Average number of rooms per dwelling\n",
    "    10,     # Weighted distance to employment centers\n",
    "    3,      # Index for highway accessibility\n",
    "    400,    # Tax rate\n",
    "    15,     # Pupil/teacher ratio\n",
    "    200,    # Index for number of blacks\n",
    "    5       # % lower status of population\n",
    "]])"
   ]
  },
  {
   "cell_type": "code",
   "execution_count": 5,
   "metadata": {},
   "outputs": [
    {
     "data": {
      "text/plain": [
       "24.805913396896099"
      ]
     },
     "execution_count": 5,
     "metadata": {},
     "output_type": "execute_result"
    }
   ],
   "source": [
    "predprice = ridge1.predict(data_train)\n",
    "mean_squared_error(price_train, predprice)"
   ]
  },
  {
   "cell_type": "markdown",
   "metadata": {},
   "source": [
    "We can use cross-validation to pick a good value for $\\alpha$. I will use `cross_val_score()` for this work."
   ]
  },
  {
   "cell_type": "code",
   "execution_count": 6,
   "metadata": {
    "collapsed": true
   },
   "outputs": [],
   "source": [
    "import pandas as pd\n",
    "from pandas import DataFrame"
   ]
  },
  {
   "cell_type": "code",
   "execution_count": 7,
   "metadata": {},
   "outputs": [
    {
     "data": {
      "text/html": [
       "<div>\n",
       "<style>\n",
       "    .dataframe thead tr:only-child th {\n",
       "        text-align: right;\n",
       "    }\n",
       "\n",
       "    .dataframe thead th {\n",
       "        text-align: left;\n",
       "    }\n",
       "\n",
       "    .dataframe tbody tr th {\n",
       "        vertical-align: top;\n",
       "    }\n",
       "</style>\n",
       "<table border=\"1\" class=\"dataframe\">\n",
       "  <thead>\n",
       "    <tr style=\"text-align: right;\">\n",
       "      <th></th>\n",
       "      <th>0.125</th>\n",
       "      <th>0.25</th>\n",
       "      <th>0.5</th>\n",
       "      <th>1.0</th>\n",
       "      <th>2.0</th>\n",
       "      <th>4.0</th>\n",
       "      <th>8.0</th>\n",
       "      <th>16.0</th>\n",
       "      <th>32.0</th>\n",
       "      <th>64.0</th>\n",
       "      <th>128.0</th>\n",
       "    </tr>\n",
       "  </thead>\n",
       "  <tbody>\n",
       "    <tr>\n",
       "      <th>0</th>\n",
       "      <td>-17.304222</td>\n",
       "      <td>-17.234732</td>\n",
       "      <td>-17.152534</td>\n",
       "      <td>-17.095210</td>\n",
       "      <td>-17.102031</td>\n",
       "      <td>-17.167592</td>\n",
       "      <td>-17.256061</td>\n",
       "      <td>-17.357533</td>\n",
       "      <td>-17.508714</td>\n",
       "      <td>-17.773929</td>\n",
       "      <td>-18.193869</td>\n",
       "    </tr>\n",
       "    <tr>\n",
       "      <th>1</th>\n",
       "      <td>-26.522072</td>\n",
       "      <td>-26.595469</td>\n",
       "      <td>-26.734186</td>\n",
       "      <td>-26.958167</td>\n",
       "      <td>-27.229521</td>\n",
       "      <td>-27.434632</td>\n",
       "      <td>-27.463042</td>\n",
       "      <td>-27.299119</td>\n",
       "      <td>-27.050952</td>\n",
       "      <td>-26.924008</td>\n",
       "      <td>-27.095314</td>\n",
       "    </tr>\n",
       "    <tr>\n",
       "      <th>2</th>\n",
       "      <td>-21.936741</td>\n",
       "      <td>-21.933755</td>\n",
       "      <td>-21.962070</td>\n",
       "      <td>-22.065557</td>\n",
       "      <td>-22.271016</td>\n",
       "      <td>-22.551581</td>\n",
       "      <td>-22.866333</td>\n",
       "      <td>-23.221994</td>\n",
       "      <td>-23.683907</td>\n",
       "      <td>-24.351623</td>\n",
       "      <td>-25.273893</td>\n",
       "    </tr>\n",
       "    <tr>\n",
       "      <th>3</th>\n",
       "      <td>-33.058802</td>\n",
       "      <td>-33.026976</td>\n",
       "      <td>-32.992844</td>\n",
       "      <td>-32.975853</td>\n",
       "      <td>-32.985608</td>\n",
       "      <td>-32.991102</td>\n",
       "      <td>-32.939767</td>\n",
       "      <td>-32.813181</td>\n",
       "      <td>-32.669970</td>\n",
       "      <td>-32.666176</td>\n",
       "      <td>-32.999845</td>\n",
       "    </tr>\n",
       "    <tr>\n",
       "      <th>4</th>\n",
       "      <td>-32.901645</td>\n",
       "      <td>-32.779770</td>\n",
       "      <td>-32.629602</td>\n",
       "      <td>-32.514981</td>\n",
       "      <td>-32.526166</td>\n",
       "      <td>-32.718449</td>\n",
       "      <td>-33.119272</td>\n",
       "      <td>-33.789371</td>\n",
       "      <td>-34.831769</td>\n",
       "      <td>-36.328163</td>\n",
       "      <td>-38.241471</td>\n",
       "    </tr>\n",
       "    <tr>\n",
       "      <th>5</th>\n",
       "      <td>-20.348829</td>\n",
       "      <td>-20.502741</td>\n",
       "      <td>-20.771642</td>\n",
       "      <td>-21.183444</td>\n",
       "      <td>-21.701443</td>\n",
       "      <td>-22.226018</td>\n",
       "      <td>-22.689240</td>\n",
       "      <td>-23.126300</td>\n",
       "      <td>-23.659356</td>\n",
       "      <td>-24.440287</td>\n",
       "      <td>-25.558801</td>\n",
       "    </tr>\n",
       "    <tr>\n",
       "      <th>6</th>\n",
       "      <td>-35.209947</td>\n",
       "      <td>-35.134525</td>\n",
       "      <td>-35.039888</td>\n",
       "      <td>-34.962723</td>\n",
       "      <td>-34.952910</td>\n",
       "      <td>-35.030622</td>\n",
       "      <td>-35.186064</td>\n",
       "      <td>-35.419867</td>\n",
       "      <td>-35.769407</td>\n",
       "      <td>-36.322800</td>\n",
       "      <td>-37.199510</td>\n",
       "    </tr>\n",
       "    <tr>\n",
       "      <th>7</th>\n",
       "      <td>-19.130555</td>\n",
       "      <td>-19.268035</td>\n",
       "      <td>-19.516760</td>\n",
       "      <td>-19.904850</td>\n",
       "      <td>-20.378083</td>\n",
       "      <td>-20.790514</td>\n",
       "      <td>-21.014771</td>\n",
       "      <td>-21.030392</td>\n",
       "      <td>-20.898038</td>\n",
       "      <td>-20.689463</td>\n",
       "      <td>-20.431257</td>\n",
       "    </tr>\n",
       "    <tr>\n",
       "      <th>8</th>\n",
       "      <td>-37.943773</td>\n",
       "      <td>-37.998168</td>\n",
       "      <td>-38.133085</td>\n",
       "      <td>-38.402693</td>\n",
       "      <td>-38.801072</td>\n",
       "      <td>-39.229614</td>\n",
       "      <td>-39.600395</td>\n",
       "      <td>-39.941660</td>\n",
       "      <td>-40.380643</td>\n",
       "      <td>-41.042134</td>\n",
       "      <td>-41.928551</td>\n",
       "    </tr>\n",
       "    <tr>\n",
       "      <th>9</th>\n",
       "      <td>-22.658957</td>\n",
       "      <td>-22.759768</td>\n",
       "      <td>-22.939704</td>\n",
       "      <td>-23.210058</td>\n",
       "      <td>-23.501946</td>\n",
       "      <td>-23.646830</td>\n",
       "      <td>-23.462662</td>\n",
       "      <td>-22.848066</td>\n",
       "      <td>-21.827520</td>\n",
       "      <td>-20.588279</td>\n",
       "      <td>-19.431041</td>\n",
       "    </tr>\n",
       "  </tbody>\n",
       "</table>\n",
       "</div>"
      ],
      "text/plain": [
       "     0.125      0.250      0.500      1.000      2.000      4.000    \\\n",
       "0 -17.304222 -17.234732 -17.152534 -17.095210 -17.102031 -17.167592   \n",
       "1 -26.522072 -26.595469 -26.734186 -26.958167 -27.229521 -27.434632   \n",
       "2 -21.936741 -21.933755 -21.962070 -22.065557 -22.271016 -22.551581   \n",
       "3 -33.058802 -33.026976 -32.992844 -32.975853 -32.985608 -32.991102   \n",
       "4 -32.901645 -32.779770 -32.629602 -32.514981 -32.526166 -32.718449   \n",
       "5 -20.348829 -20.502741 -20.771642 -21.183444 -21.701443 -22.226018   \n",
       "6 -35.209947 -35.134525 -35.039888 -34.962723 -34.952910 -35.030622   \n",
       "7 -19.130555 -19.268035 -19.516760 -19.904850 -20.378083 -20.790514   \n",
       "8 -37.943773 -37.998168 -38.133085 -38.402693 -38.801072 -39.229614   \n",
       "9 -22.658957 -22.759768 -22.939704 -23.210058 -23.501946 -23.646830   \n",
       "\n",
       "     8.000      16.000     32.000     64.000     128.000  \n",
       "0 -17.256061 -17.357533 -17.508714 -17.773929 -18.193869  \n",
       "1 -27.463042 -27.299119 -27.050952 -26.924008 -27.095314  \n",
       "2 -22.866333 -23.221994 -23.683907 -24.351623 -25.273893  \n",
       "3 -32.939767 -32.813181 -32.669970 -32.666176 -32.999845  \n",
       "4 -33.119272 -33.789371 -34.831769 -36.328163 -38.241471  \n",
       "5 -22.689240 -23.126300 -23.659356 -24.440287 -25.558801  \n",
       "6 -35.186064 -35.419867 -35.769407 -36.322800 -37.199510  \n",
       "7 -21.014771 -21.030392 -20.898038 -20.689463 -20.431257  \n",
       "8 -39.600395 -39.941660 -40.380643 -41.042134 -41.928551  \n",
       "9 -23.462662 -22.848066 -21.827520 -20.588279 -19.431041  "
      ]
     },
     "execution_count": 7,
     "metadata": {},
     "output_type": "execute_result"
    }
   ],
   "source": [
    "alpha = [.125, .25, .5, 1, 2, 4, 8, 16, 32, 64, 128]    # Candidate alphas\n",
    "res = dict()\n",
    "\n",
    "for a in alpha:\n",
    "    ridge2 = Ridge(alpha=a)\n",
    "    res[a] = cross_val_score(ridge2, data_train, price_train, scoring='neg_mean_squared_error', cv = 10)\n",
    "\n",
    "res_df = DataFrame(res)\n",
    "\n",
    "res_df"
   ]
  },
  {
   "cell_type": "code",
   "execution_count": 8,
   "metadata": {},
   "outputs": [
    {
     "data": {
      "text/plain": [
       "0.125     -26.701554\n",
       "0.250     -26.723394\n",
       "0.500     -26.787232\n",
       "1.000     -26.927354\n",
       "2.000     -27.144980\n",
       "4.000     -27.378695\n",
       "8.000     -27.559761\n",
       "16.000    -27.684748\n",
       "32.000    -27.828028\n",
       "64.000    -28.112686\n",
       "128.000   -28.635355\n",
       "dtype: float64"
      ]
     },
     "execution_count": 8,
     "metadata": {},
     "output_type": "execute_result"
    }
   ],
   "source": [
    "res_df.mean()"
   ]
  },
  {
   "cell_type": "markdown",
   "metadata": {},
   "source": [
    "It appears that a small $\\alpha$ leads to smaller MSE. Thus I will choose $\\alpha = 0.125$. Let's now see how ridge regression with this chosen $\\alpha$ performs on the test set."
   ]
  },
  {
   "cell_type": "code",
   "execution_count": null,
   "metadata": {},
   "outputs": [],
   "source": [
    "ridge3 = Ridge(alpha=0.125)\n",
    "ridge3.fit(data_train, price_train)\n",
    "\n",
    "testpredprice = ridge3.predict(data_test)\n",
    "mean_squared_error(price_test, testpredprice)"
   ]
  },
  {
   "cell_type": "markdown",
   "metadata": {},
   "source": [
    "This is higher than the corresponding MSE obtained via OLS; ridge regression does not appear to be a superior choice."
   ]
  }
 ],
 "metadata": {
  "kernelspec": {
   "display_name": "Python 3",
   "language": "python",
   "name": "python3"
  },
  "language_info": {
   "codemirror_mode": {
    "name": "ipython",
    "version": 3
   },
   "file_extension": ".py",
   "mimetype": "text/x-python",
   "name": "python",
   "nbconvert_exporter": "python",
   "pygments_lexer": "ipython3",
   "version": "3.6.3"
  }
 },
 "nbformat": 4,
 "nbformat_minor": 2
}
