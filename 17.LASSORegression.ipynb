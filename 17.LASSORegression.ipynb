{
 "cells": [
  {
   "cell_type": "markdown",
   "metadata": {},
   "source": [
    "# Employing LASSO Regression\n",
    "\n",
    "**LASSO regression** (where LASSO stands for least absolute shrinkage and selection operator) is another regularized version of regression, resembling ridge regression. However, the penalty term $\\alpha$ is applied differently in LASSO. (Ridge regression uses $L_2$ regularization while LASSO uses $L_1$ regularization.)\n",
    "\n",
    "We will continue to work with the Boston house price dataset."
   ]
  },
  {
   "cell_type": "code",
   "execution_count": 1,
   "metadata": {
    "collapsed": true
   },
   "outputs": [],
   "source": [
    "from sklearn.datasets import load_boston\n",
    "from sklearn.model_selection import train_test_split\n",
    "import numpy as np"
   ]
  },
  {
   "cell_type": "code",
   "execution_count": 2,
   "metadata": {
    "collapsed": true
   },
   "outputs": [],
   "source": [
    "boston_obj = load_boston()\n",
    "data_train, data_test, price_train, price_test = train_test_split(boston_obj.data, boston_obj.target)\n",
    "data_train = np.delete(data_train, [2, 6], axis=1)\n",
    "data_test = np.delete(data_test, [2, 6], axis=1)"
   ]
  },
  {
   "cell_type": "markdown",
   "metadata": {},
   "source": [
    "## Fitting with LASSO regression\n",
    "\n",
    "LASSO regression is implemented via the `Lasso` object provided by **scikit-learn**."
   ]
  },
  {
   "cell_type": "code",
   "execution_count": 3,
   "metadata": {
    "collapsed": true
   },
   "outputs": [],
   "source": [
    "from sklearn.linear_model import Lasso\n",
    "from sklearn.metrics import mean_squared_error\n",
    "from sklearn.model_selection import cross_val_score"
   ]
  },
  {
   "cell_type": "code",
   "execution_count": 4,
   "metadata": {},
   "outputs": [
    {
     "data": {
      "text/plain": [
       "array([ 26.13154937])"
      ]
     },
     "execution_count": 4,
     "metadata": {},
     "output_type": "execute_result"
    }
   ],
   "source": [
    "lasso1 = Lasso(alpha=1)    # alpha is a hyperparameter controlling regularization\n",
    "lasso1.fit(data_train, price_train)\n",
    "lasso1.predict([[    # An example prediction\n",
    "    1,      # Per capita crime rate\n",
    "    25,     # Proportion of land zoned for large homes\n",
    "    1,      # Tract bounds the Charles River\n",
    "    0.3,    # NOX concentration\n",
    "    10,     # Average number of rooms per dwelling\n",
    "    10,     # Weighted distance to employment centers\n",
    "    3,      # Index for highway accessibility\n",
    "    400,    # Tax rate\n",
    "    15,     # Pupil/teacher ratio\n",
    "    200,    # Index for number of blacks\n",
    "    5       # % lower status of population\n",
    "]])"
   ]
  },
  {
   "cell_type": "code",
   "execution_count": 5,
   "metadata": {},
   "outputs": [
    {
     "data": {
      "text/plain": [
       "26.602548859655187"
      ]
     },
     "execution_count": 5,
     "metadata": {},
     "output_type": "execute_result"
    }
   ],
   "source": [
    "predprice = lasso1.predict(data_train)\n",
    "mean_squared_error(price_train, predprice)"
   ]
  },
  {
   "cell_type": "markdown",
   "metadata": {},
   "source": [
    "Cross-validation via LASSO looks very similar to cross-validation with ridge regression."
   ]
  },
  {
   "cell_type": "code",
   "execution_count": 6,
   "metadata": {
    "collapsed": true
   },
   "outputs": [],
   "source": [
    "import pandas as pd\n",
    "from pandas import DataFrame"
   ]
  },
  {
   "cell_type": "code",
   "execution_count": 7,
   "metadata": {},
   "outputs": [
    {
     "data": {
      "text/html": [
       "<div>\n",
       "<style>\n",
       "    .dataframe thead tr:only-child th {\n",
       "        text-align: right;\n",
       "    }\n",
       "\n",
       "    .dataframe thead th {\n",
       "        text-align: left;\n",
       "    }\n",
       "\n",
       "    .dataframe tbody tr th {\n",
       "        vertical-align: top;\n",
       "    }\n",
       "</style>\n",
       "<table border=\"1\" class=\"dataframe\">\n",
       "  <thead>\n",
       "    <tr style=\"text-align: right;\">\n",
       "      <th></th>\n",
       "      <th>0.125</th>\n",
       "      <th>0.25</th>\n",
       "      <th>0.5</th>\n",
       "      <th>1.0</th>\n",
       "      <th>2.0</th>\n",
       "      <th>4.0</th>\n",
       "      <th>8.0</th>\n",
       "      <th>16.0</th>\n",
       "      <th>32.0</th>\n",
       "      <th>64.0</th>\n",
       "      <th>128.0</th>\n",
       "    </tr>\n",
       "  </thead>\n",
       "  <tbody>\n",
       "    <tr>\n",
       "      <th>0</th>\n",
       "      <td>-23.578552</td>\n",
       "      <td>-25.183016</td>\n",
       "      <td>-26.884422</td>\n",
       "      <td>-31.086422</td>\n",
       "      <td>-34.485346</td>\n",
       "      <td>-38.574984</td>\n",
       "      <td>-42.013423</td>\n",
       "      <td>-49.505125</td>\n",
       "      <td>-68.654366</td>\n",
       "      <td>-73.079089</td>\n",
       "      <td>-74.038808</td>\n",
       "    </tr>\n",
       "    <tr>\n",
       "      <th>1</th>\n",
       "      <td>-20.727668</td>\n",
       "      <td>-21.359924</td>\n",
       "      <td>-22.538832</td>\n",
       "      <td>-25.758314</td>\n",
       "      <td>-30.071691</td>\n",
       "      <td>-37.159435</td>\n",
       "      <td>-39.127933</td>\n",
       "      <td>-43.239196</td>\n",
       "      <td>-57.843196</td>\n",
       "      <td>-62.193022</td>\n",
       "      <td>-63.710823</td>\n",
       "    </tr>\n",
       "    <tr>\n",
       "      <th>2</th>\n",
       "      <td>-24.792004</td>\n",
       "      <td>-24.747319</td>\n",
       "      <td>-23.587147</td>\n",
       "      <td>-22.893052</td>\n",
       "      <td>-24.911051</td>\n",
       "      <td>-29.382137</td>\n",
       "      <td>-31.754362</td>\n",
       "      <td>-38.914857</td>\n",
       "      <td>-62.963909</td>\n",
       "      <td>-67.371269</td>\n",
       "      <td>-68.373116</td>\n",
       "    </tr>\n",
       "    <tr>\n",
       "      <th>3</th>\n",
       "      <td>-36.072840</td>\n",
       "      <td>-35.343506</td>\n",
       "      <td>-34.592405</td>\n",
       "      <td>-34.378515</td>\n",
       "      <td>-38.586243</td>\n",
       "      <td>-47.179857</td>\n",
       "      <td>-48.512042</td>\n",
       "      <td>-52.567526</td>\n",
       "      <td>-67.043069</td>\n",
       "      <td>-64.899899</td>\n",
       "      <td>-64.886922</td>\n",
       "    </tr>\n",
       "    <tr>\n",
       "      <th>4</th>\n",
       "      <td>-21.143216</td>\n",
       "      <td>-21.856128</td>\n",
       "      <td>-24.002821</td>\n",
       "      <td>-29.682242</td>\n",
       "      <td>-33.611047</td>\n",
       "      <td>-39.124863</td>\n",
       "      <td>-41.797128</td>\n",
       "      <td>-48.082617</td>\n",
       "      <td>-67.442011</td>\n",
       "      <td>-70.980608</td>\n",
       "      <td>-73.746373</td>\n",
       "    </tr>\n",
       "    <tr>\n",
       "      <th>5</th>\n",
       "      <td>-17.748703</td>\n",
       "      <td>-18.315820</td>\n",
       "      <td>-18.985668</td>\n",
       "      <td>-21.821554</td>\n",
       "      <td>-22.791731</td>\n",
       "      <td>-23.715189</td>\n",
       "      <td>-22.866200</td>\n",
       "      <td>-23.608628</td>\n",
       "      <td>-36.321938</td>\n",
       "      <td>-38.026512</td>\n",
       "      <td>-44.162521</td>\n",
       "    </tr>\n",
       "    <tr>\n",
       "      <th>6</th>\n",
       "      <td>-20.017082</td>\n",
       "      <td>-18.528720</td>\n",
       "      <td>-17.862859</td>\n",
       "      <td>-18.290466</td>\n",
       "      <td>-20.099780</td>\n",
       "      <td>-23.648307</td>\n",
       "      <td>-25.421354</td>\n",
       "      <td>-30.180902</td>\n",
       "      <td>-47.672406</td>\n",
       "      <td>-50.415362</td>\n",
       "      <td>-51.070062</td>\n",
       "    </tr>\n",
       "    <tr>\n",
       "      <th>7</th>\n",
       "      <td>-48.076614</td>\n",
       "      <td>-47.579222</td>\n",
       "      <td>-46.862860</td>\n",
       "      <td>-46.316435</td>\n",
       "      <td>-48.783352</td>\n",
       "      <td>-55.088865</td>\n",
       "      <td>-60.914061</td>\n",
       "      <td>-73.309961</td>\n",
       "      <td>-99.531297</td>\n",
       "      <td>-103.554066</td>\n",
       "      <td>-104.517061</td>\n",
       "    </tr>\n",
       "    <tr>\n",
       "      <th>8</th>\n",
       "      <td>-24.484715</td>\n",
       "      <td>-25.516003</td>\n",
       "      <td>-28.669419</td>\n",
       "      <td>-37.083196</td>\n",
       "      <td>-43.438188</td>\n",
       "      <td>-53.792811</td>\n",
       "      <td>-54.927445</td>\n",
       "      <td>-58.983855</td>\n",
       "      <td>-73.110627</td>\n",
       "      <td>-76.587099</td>\n",
       "      <td>-79.387674</td>\n",
       "    </tr>\n",
       "    <tr>\n",
       "      <th>9</th>\n",
       "      <td>-16.880481</td>\n",
       "      <td>-16.697835</td>\n",
       "      <td>-17.001803</td>\n",
       "      <td>-18.449687</td>\n",
       "      <td>-21.168183</td>\n",
       "      <td>-24.371581</td>\n",
       "      <td>-24.297903</td>\n",
       "      <td>-24.005189</td>\n",
       "      <td>-29.901779</td>\n",
       "      <td>-29.884072</td>\n",
       "      <td>-29.434281</td>\n",
       "    </tr>\n",
       "  </tbody>\n",
       "</table>\n",
       "</div>"
      ],
      "text/plain": [
       "     0.125      0.250      0.500      1.000      2.000      4.000    \\\n",
       "0 -23.578552 -25.183016 -26.884422 -31.086422 -34.485346 -38.574984   \n",
       "1 -20.727668 -21.359924 -22.538832 -25.758314 -30.071691 -37.159435   \n",
       "2 -24.792004 -24.747319 -23.587147 -22.893052 -24.911051 -29.382137   \n",
       "3 -36.072840 -35.343506 -34.592405 -34.378515 -38.586243 -47.179857   \n",
       "4 -21.143216 -21.856128 -24.002821 -29.682242 -33.611047 -39.124863   \n",
       "5 -17.748703 -18.315820 -18.985668 -21.821554 -22.791731 -23.715189   \n",
       "6 -20.017082 -18.528720 -17.862859 -18.290466 -20.099780 -23.648307   \n",
       "7 -48.076614 -47.579222 -46.862860 -46.316435 -48.783352 -55.088865   \n",
       "8 -24.484715 -25.516003 -28.669419 -37.083196 -43.438188 -53.792811   \n",
       "9 -16.880481 -16.697835 -17.001803 -18.449687 -21.168183 -24.371581   \n",
       "\n",
       "     8.000      16.000     32.000      64.000      128.000  \n",
       "0 -42.013423 -49.505125 -68.654366  -73.079089  -74.038808  \n",
       "1 -39.127933 -43.239196 -57.843196  -62.193022  -63.710823  \n",
       "2 -31.754362 -38.914857 -62.963909  -67.371269  -68.373116  \n",
       "3 -48.512042 -52.567526 -67.043069  -64.899899  -64.886922  \n",
       "4 -41.797128 -48.082617 -67.442011  -70.980608  -73.746373  \n",
       "5 -22.866200 -23.608628 -36.321938  -38.026512  -44.162521  \n",
       "6 -25.421354 -30.180902 -47.672406  -50.415362  -51.070062  \n",
       "7 -60.914061 -73.309961 -99.531297 -103.554066 -104.517061  \n",
       "8 -54.927445 -58.983855 -73.110627  -76.587099  -79.387674  \n",
       "9 -24.297903 -24.005189 -29.901779  -29.884072  -29.434281  "
      ]
     },
     "execution_count": 7,
     "metadata": {},
     "output_type": "execute_result"
    }
   ],
   "source": [
    "alpha = [.125, .25, .5, 1, 2, 4, 8, 16, 32, 64, 128]    # Candidate alphas\n",
    "res = dict()\n",
    "\n",
    "for a in alpha:\n",
    "    lasso2 = Lasso(alpha=a)\n",
    "    res[a] = cross_val_score(lasso2, data_train, price_train, scoring='neg_mean_squared_error', cv = 10)\n",
    "\n",
    "res_df = DataFrame(res)\n",
    "\n",
    "res_df"
   ]
  },
  {
   "cell_type": "code",
   "execution_count": 8,
   "metadata": {},
   "outputs": [
    {
     "data": {
      "text/plain": [
       "0.125     -25.352187\n",
       "0.250     -25.512749\n",
       "0.500     -26.098824\n",
       "1.000     -28.575989\n",
       "2.000     -31.794661\n",
       "4.000     -37.203803\n",
       "8.000     -39.163185\n",
       "16.000    -44.239786\n",
       "32.000    -61.048460\n",
       "64.000    -63.699100\n",
       "128.000   -65.332764\n",
       "dtype: float64"
      ]
     },
     "execution_count": 8,
     "metadata": {},
     "output_type": "execute_result"
    }
   ],
   "source": [
    "res_df.mean()"
   ]
  },
  {
   "cell_type": "markdown",
   "metadata": {},
   "source": [
    "Again, a smaller $\\alpha$ leads to better fits."
   ]
  },
  {
   "cell_type": "code",
   "execution_count": 9,
   "metadata": {},
   "outputs": [
    {
     "data": {
      "text/plain": [
       "24.883894478966027"
      ]
     },
     "execution_count": 9,
     "metadata": {},
     "output_type": "execute_result"
    }
   ],
   "source": [
    "lasso3 = Lasso(alpha=0.125)\n",
    "lasso3.fit(data_train, price_train)\n",
    "\n",
    "testpredprice = lasso3.predict(data_test)\n",
    "mean_squared_error(price_test, testpredprice)"
   ]
  },
  {
   "cell_type": "markdown",
   "metadata": {},
   "source": [
    "Overall it seems that LASSO regression doesn't do better than OLS. In fact, it seems like regularization doesn't produce better models for this dataset."
   ]
  }
 ],
 "metadata": {
  "kernelspec": {
   "display_name": "Python 3",
   "language": "python",
   "name": "python3"
  },
  "language_info": {
   "codemirror_mode": {
    "name": "ipython",
    "version": 3
   },
   "file_extension": ".py",
   "mimetype": "text/x-python",
   "name": "python",
   "nbconvert_exporter": "python",
   "pygments_lexer": "ipython3",
   "version": "3.6.3"
  }
 },
 "nbformat": 4,
 "nbformat_minor": 2
}
