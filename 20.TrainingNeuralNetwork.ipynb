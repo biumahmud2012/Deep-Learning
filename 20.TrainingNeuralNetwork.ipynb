{
 "cells": [
  {
   "cell_type": "markdown",
   "metadata": {},
   "source": [
    "# Training a Neural Network\n",
    "\n",
    "In this notebook I demonstrate how to train the neural network known as the **multilayer perceptron (MLP)**. We will use a MLP to classify the iris dataset and also a dataset of handwritten digits, in order to detect different characters.\n",
    "\n",
    "Neural networks have a lot of parameters to set when training. These include:\n",
    "\n",
    "* How many hidden layers to have\n",
    "* How many neurons to include in each layer\n",
    "* The activation functions of neurons in the hidden layers\n",
    "* Value of the regularization term to control overfitting (referred to as $\\alpha$)\n",
    "\n",
    "Issues when training a neural network are also accute. These are choices related to the actual optimization algorithm that estimates the parameters used for prediction. For neural networks this fitting process is very involved.\n",
    "\n",
    "MLPs are online algorithms just like perceptrons. This is especially advantageous for training on large datasets that don't necessarily fit into data. Additionally, MLPs are *not* linear classifiers/regressors. This suggests that MLPs are most popular for learning problems that require fitting data that isn't linearly separable.\n",
    "\n",
    "MLPs can be used for classification and regression. This notebook focuses on classification.\n",
    "\n",
    "First, lets load in the datasets we will use."
   ]
  },
  {
   "cell_type": "code",
   "execution_count": 1,
   "metadata": {
    "collapsed": true
   },
   "outputs": [],
   "source": [
    "from sklearn.datasets import load_iris, load_digits\n",
    "from sklearn.model_selection import train_test_split\n",
    "import numpy as np\n",
    "import matplotlib.pyplot as plt\n",
    "%matplotlib inline"
   ]
  },
  {
   "cell_type": "code",
   "execution_count": 2,
   "metadata": {},
   "outputs": [
    {
     "name": "stdout",
     "output_type": "stream",
     "text": [
      "Optical Recognition of Handwritten Digits Data Set\n",
      "===================================================\n",
      "\n",
      "Notes\n",
      "-----\n",
      "Data Set Characteristics:\n",
      "    :Number of Instances: 5620\n",
      "    :Number of Attributes: 64\n",
      "    :Attribute Information: 8x8 image of integer pixels in the range 0..16.\n",
      "    :Missing Attribute Values: None\n",
      "    :Creator: E. Alpaydin (alpaydin '@' boun.edu.tr)\n",
      "    :Date: July; 1998\n",
      "\n",
      "This is a copy of the test set of the UCI ML hand-written digits datasets\n",
      "http://archive.ics.uci.edu/ml/datasets/Optical+Recognition+of+Handwritten+Digits\n",
      "\n",
      "The data set contains images of hand-written digits: 10 classes where\n",
      "each class refers to a digit.\n",
      "\n",
      "Preprocessing programs made available by NIST were used to extract\n",
      "normalized bitmaps of handwritten digits from a preprinted form. From a\n",
      "total of 43 people, 30 contributed to the training set and different 13\n",
      "to the test set. 32x32 bitmaps are divided into nonoverlapping blocks of\n",
      "4x4 and the number of on pixels are counted in each block. This generates\n",
      "an input matrix of 8x8 where each element is an integer in the range\n",
      "0..16. This reduces dimensionality and gives invariance to small\n",
      "distortions.\n",
      "\n",
      "For info on NIST preprocessing routines, see M. D. Garris, J. L. Blue, G.\n",
      "T. Candela, D. L. Dimmick, J. Geist, P. J. Grother, S. A. Janet, and C.\n",
      "L. Wilson, NIST Form-Based Handprint Recognition System, NISTIR 5469,\n",
      "1994.\n",
      "\n",
      "References\n",
      "----------\n",
      "  - C. Kaynak (1995) Methods of Combining Multiple Classifiers and Their\n",
      "    Applications to Handwritten Digit Recognition, MSc Thesis, Institute of\n",
      "    Graduate Studies in Science and Engineering, Bogazici University.\n",
      "  - E. Alpaydin, C. Kaynak (1998) Cascading Classifiers, Kybernetika.\n",
      "  - Ken Tang and Ponnuthurai N. Suganthan and Xi Yao and A. Kai Qin.\n",
      "    Linear dimensionalityreduction using relevance weighted LDA. School of\n",
      "    Electrical and Electronic Engineering Nanyang Technological University.\n",
      "    2005.\n",
      "  - Claudio Gentile. A New Approximate Maximal Margin Classification\n",
      "    Algorithm. NIPS. 2000.\n",
      "\n"
     ]
    }
   ],
   "source": [
    "# First, the iris dataset\n",
    "iris_obj = load_iris()\n",
    "iris_data_train, iris_data_test, species_train, species_test = train_test_split(iris_obj.data, iris_obj.target)\n",
    "\n",
    "# Next, the digits dataset\n",
    "digits_obj = load_digits()\n",
    "print(digits_obj.DESCR)"
   ]
  },
  {
   "cell_type": "code",
   "execution_count": 3,
   "metadata": {},
   "outputs": [
    {
     "data": {
      "text/plain": [
       "(1797, 64)"
      ]
     },
     "execution_count": 3,
     "metadata": {},
     "output_type": "execute_result"
    }
   ],
   "source": [
    "digits_obj.data.shape"
   ]
  },
  {
   "cell_type": "code",
   "execution_count": 4,
   "metadata": {},
   "outputs": [
    {
     "data": {
      "text/plain": [
       "array([6, 9, 3, 5, 6])"
      ]
     },
     "execution_count": 4,
     "metadata": {},
     "output_type": "execute_result"
    }
   ],
   "source": [
    "digits_data_train, digits_data_test, number_train, number_test = train_test_split(digits_obj.data, digits_obj.target)\n",
    "number_train[:5]"
   ]
  },
  {
   "cell_type": "code",
   "execution_count": 5,
   "metadata": {},
   "outputs": [
    {
     "data": {
      "text/plain": [
       "array([  0.,   0.,   0.,   6.,  12.,   0.,   0.,   0.,   0.,   0.,   0.,\n",
       "        13.,  13.,   0.,   0.,   0.,   0.,   0.,   7.,  16.,   2.,   0.,\n",
       "         0.,   0.,   0.,   0.,  10.,  12.,   0.,   2.,   0.,   0.,   0.,\n",
       "         0.,  13.,  14.,  16.,  14.,   0.,   0.,   0.,   0.,  11.,  16.,\n",
       "        14.,  13.,   6.,   0.,   0.,   0.,   5.,  13.,   9.,  16.,   5.,\n",
       "         0.,   0.,   0.,   0.,   6.,  15.,  12.,   1.,   0.])"
      ]
     },
     "execution_count": 5,
     "metadata": {},
     "output_type": "execute_result"
    }
   ],
   "source": [
    "digits_data_train[0, :]"
   ]
  },
  {
   "cell_type": "code",
   "execution_count": 6,
   "metadata": {},
   "outputs": [
    {
     "data": {
      "text/plain": [
       "array([[  0.,   0.,   0.,   6.,  12.,   0.,   0.,   0.],\n",
       "       [  0.,   0.,   0.,  13.,  13.,   0.,   0.,   0.],\n",
       "       [  0.,   0.,   7.,  16.,   2.,   0.,   0.,   0.],\n",
       "       [  0.,   0.,  10.,  12.,   0.,   2.,   0.,   0.],\n",
       "       [  0.,   0.,  13.,  14.,  16.,  14.,   0.,   0.],\n",
       "       [  0.,   0.,  11.,  16.,  14.,  13.,   6.,   0.],\n",
       "       [  0.,   0.,   5.,  13.,   9.,  16.,   5.,   0.],\n",
       "       [  0.,   0.,   0.,   6.,  15.,  12.,   1.,   0.]])"
      ]
     },
     "execution_count": 6,
     "metadata": {},
     "output_type": "execute_result"
    }
   ],
   "source": [
    "digits_data_train[0, :].reshape((8, 8))"
   ]
  },
  {
   "cell_type": "code",
   "execution_count": 7,
   "metadata": {},
   "outputs": [
    {
     "data": {
      "text/plain": [
       "<matplotlib.image.AxesImage at 0x185050f4eb8>"
      ]
     },
     "execution_count": 7,
     "metadata": {},
     "output_type": "execute_result"
    },
    {
     "data": {
      "image/png": "[encoded data removed]",
      "text/plain": [
       "<matplotlib.figure.Figure at 0x1850339c3c8>"
      ]
     },
     "metadata": {},
     "output_type": "display_data"
    }
   ],
   "source": [
    "plt.imshow(digits_data_train[0, :].reshape((8, 8)))"
   ]
  },
  {
   "cell_type": "markdown",
   "metadata": {},
   "source": [
    "## Fitting a MLP to the Iris Data\n",
    "\n",
    "MLP models are implemented via the `MLPClassifier` object in **scikit-learn**. The MLP classifier I train:\n",
    "\n",
    "* Has one hidden layer with 20 neurons\n",
    "* Uses the logistic activation function for the hidden layers\n",
    "* Uses a regularization parameter of $\\alpha = 1$\n",
    "\n",
    "I demonstrate its use below."
   ]
  },
  {
   "cell_type": "code",
   "execution_count": 8,
   "metadata": {
    "collapsed": true
   },
   "outputs": [],
   "source": [
    "from sklearn.neural_network import MLPClassifier\n",
    "from sklearn.metrics import accuracy_score"
   ]
  },
  {
   "cell_type": "code",
   "execution_count": 9,
   "metadata": {},
   "outputs": [
    {
     "data": {
      "text/plain": [
       "array([2])"
      ]
     },
     "execution_count": 9,
     "metadata": {},
     "output_type": "execute_result"
    }
   ],
   "source": [
    "mlp_iris = MLPClassifier(hidden_layer_sizes=(20,),    # A tuple with the number of neurons for each hidden layer\n",
    "                         activation='logistic',         # Which activation function to use\n",
    "                         alpha=1,                       # Regularization parameter\n",
    "                         max_iter=1000)                 # Maximum number of iterations taken by the solver\n",
    "mlp_iris = mlp_iris.fit(iris_data_train, species_train)\n",
    "mlp_iris.predict(iris_data_train[:1,:])"
   ]
  },
  {
   "cell_type": "code",
   "execution_count": 10,
   "metadata": {},
   "outputs": [
    {
     "data": {
      "text/plain": [
       "0.9821428571428571"
      ]
     },
     "execution_count": 10,
     "metadata": {},
     "output_type": "execute_result"
    }
   ],
   "source": [
    "species_pred_train = mlp_iris.predict(iris_data_train)\n",
    "accuracy_score(species_pred_train, species_train)"
   ]
  },
  {
   "cell_type": "code",
   "execution_count": 11,
   "metadata": {},
   "outputs": [
    {
     "data": {
      "text/plain": [
       "0.97368421052631582"
      ]
     },
     "execution_count": 11,
     "metadata": {},
     "output_type": "execute_result"
    }
   ],
   "source": [
    "species_pred_test = mlp_iris.predict(iris_data_test)\n",
    "accuracy_score(species_pred_test, species_test)"
   ]
  },
  {
   "cell_type": "markdown",
   "metadata": {},
   "source": [
    "The classifier has extremely high accuracy for this dataset.\n",
    "\n",
    "## Fitting an MLP to the Digits Dataset\n",
    "\n",
    "Let's now see how the MLP classifier performs for the digits dataset. Again there is only one hidden layer, this one with 50 neurons."
   ]
  },
  {
   "cell_type": "code",
   "execution_count": 12,
   "metadata": {
    "collapsed": true
   },
   "outputs": [],
   "source": [
    "mlp_digits = MLPClassifier(hidden_layer_sizes=(50,),\n",
    "                           activation='logistic',\n",
    "                           alpha=1)\n",
    "mlp_digits = mlp_digits.fit(digits_data_train, number_train)"
   ]
  },
  {
   "cell_type": "code",
   "execution_count": 13,
   "metadata": {},
   "outputs": [
    {
     "data": {
      "text/plain": [
       "array([6])"
      ]
     },
     "execution_count": 13,
     "metadata": {},
     "output_type": "execute_result"
    }
   ],
   "source": [
    "mlp_digits.predict(digits_data_train[[0], :])"
   ]
  },
  {
   "cell_type": "code",
   "execution_count": 14,
   "metadata": {},
   "outputs": [
    {
     "data": {
      "text/plain": [
       "0.99777282850779514"
      ]
     },
     "execution_count": 14,
     "metadata": {},
     "output_type": "execute_result"
    }
   ],
   "source": [
    "number_pred_train = mlp_digits.predict(digits_data_train)\n",
    "accuracy_score(number_pred_train, number_train)"
   ]
  },
  {
   "cell_type": "code",
   "execution_count": 15,
   "metadata": {},
   "outputs": [
    {
     "data": {
      "text/plain": [
       "0.98222222222222222"
      ]
     },
     "execution_count": 15,
     "metadata": {},
     "output_type": "execute_result"
    }
   ],
   "source": [
    "number_pred_test = mlp_digits.predict(digits_data_test)\n",
    "accuracy_score(number_pred_test, number_test)"
   ]
  },
  {
   "cell_type": "markdown",
   "metadata": {},
   "source": [
    "The classifier shines in these nonlinear contexts."
   ]
  }
 ],
 "metadata": {
  "kernelspec": {
   "display_name": "Python 3",
   "language": "python",
   "name": "python3"
  },
  "language_info": {
   "codemirror_mode": {
    "name": "ipython",
    "version": 3
   },
   "file_extension": ".py",
   "mimetype": "text/x-python",
   "name": "python",
   "nbconvert_exporter": "python",
   "pygments_lexer": "ipython3",
   "version": "3.6.3"
  }
 },
 "nbformat": 4,
 "nbformat_minor": 2
}
